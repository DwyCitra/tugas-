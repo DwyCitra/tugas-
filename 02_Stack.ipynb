{
  "nbformat": 4,
  "nbformat_minor": 0,
  "metadata": {
    "colab": {
      "provenance": []
    },
    "kernelspec": {
      "name": "python3",
      "display_name": "Python 3"
    },
    "language_info": {
      "name": "python"
    }
  },
  "cells": [
    {
      "cell_type": "code",
      "execution_count": 1,
      "metadata": {
        "id": "jd6q6v-Zq2uE"
      },
      "outputs": [],
      "source": [
        "#   Create Stack with min method\n",
        "\n",
        "class Node():\n",
        "    def __init__(self, value=None, next = None):\n",
        "        self.value = value\n",
        "        self.next = next\n",
        "\n",
        "    def __str__(self):\n",
        "        string = str(self.value)\n",
        "        if self.next:\n",
        "            string += ',' + str(self.next)\n",
        "        return string\n",
        "\n",
        "class Stack():\n",
        "    def __init__(self):\n",
        "        self.top = None\n",
        "        self.minNode = None\n",
        "\n",
        "    def min(self):\n",
        "        if not self.minNode:\n",
        "            return None\n",
        "        return self.minNode.value\n",
        "\n",
        "    def push(self, item):\n",
        "        if self.minNode and (self.minNode.value < item):\n",
        "            self.minNode = Node(value = self.minNode.value, next=self.minNode)\n",
        "        else:\n",
        "            self.minNode = Node(value = item, next=self.minNode)\n",
        "        self.top = Node(value=item, next=self.top)\n",
        "\n",
        "    def pop(self):\n",
        "        if not self.top:\n",
        "            return None\n",
        "        self.minNode = self.minNode.next\n",
        "        item = self.top.value\n",
        "        self.top = self.top.next\n",
        "        return item"
      ]
    },
    {
      "cell_type": "code",
      "source": [
        "customStack = Stack()\n",
        "customStack.push(5)\n",
        "print(customStack.min())\n",
        "customStack.push(6)\n",
        "print(customStack.min())\n",
        "customStack.push(3)\n",
        "print(customStack.min())\n",
        "customStack.pop()\n",
        "print(customStack.min())\n"
      ],
      "metadata": {
        "colab": {
          "base_uri": "https://localhost:8080/"
        },
        "id": "L9Gppa3RrB28",
        "outputId": "e07774b2-f9a0-4222-86bb-6737ca5987d2"
      },
      "execution_count": 2,
      "outputs": [
        {
          "output_type": "stream",
          "name": "stdout",
          "text": [
            "5\n",
            "5\n",
            "3\n",
            "5\n"
          ]
        }
      ]
    },
    {
      "cell_type": "code",
      "source": [],
      "metadata": {
        "id": "z1N6Qzr1rD97"
      },
      "execution_count": null,
      "outputs": []
    }
  ]
}