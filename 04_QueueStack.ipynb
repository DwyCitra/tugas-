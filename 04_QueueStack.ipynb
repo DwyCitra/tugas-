{
  "nbformat": 4,
  "nbformat_minor": 0,
  "metadata": {
    "colab": {
      "provenance": []
    },
    "kernelspec": {
      "name": "python3",
      "display_name": "Python 3"
    },
    "language_info": {
      "name": "python"
    }
  },
  "cells": [
    {
      "cell_type": "code",
      "execution_count": 1,
      "metadata": {
        "id": "UO8LZZpslk48"
      },
      "outputs": [],
      "source": [
        "# Implement a queue using two stacks.\n",
        "\n",
        "class Stack():\n",
        "  def __init__(self):\n",
        "    self.list = []\n",
        "\n",
        "  def __len__(self):\n",
        "    return len(self.list)\n",
        "\n",
        "  def push(self, item):\n",
        "    self.list.append(item)\n",
        "\n",
        "  def pop(self):\n",
        "    if len(self.list) == 0:\n",
        "      return None\n",
        "    return self.list.pop()\n",
        "\n",
        "class QueueviaStack():\n",
        "  def __init__(self):\n",
        "    self.inStack = Stack()\n",
        "    self.outStack = Stack()\n",
        "\n",
        "  def enqueue(self, item):\n",
        "    self.inStack.push(item)\n",
        "\n",
        "  def dequeue(self):\n",
        "    while len(self.inStack):\n",
        "      self.outStack.push(self.inStack.pop())\n",
        "    result = self.outStack.pop()\n",
        "    while len(self.outStack):\n",
        "      self.inStack.push(self.outStack.pop())\n",
        "    return result\n",
        ""
      ]
    },
    {
      "cell_type": "code",
      "source": [
        "customQueue = QueueviaStack()\n",
        "customQueue.enqueue(1)\n",
        "customQueue.enqueue(2)\n",
        "customQueue.enqueue(3)\n",
        "print(customQueue.dequeue())\n",
        "customQueue.enqueue(4)\n",
        "print(customQueue.dequeue())"
      ],
      "metadata": {
        "colab": {
          "base_uri": "https://localhost:8080/"
        },
        "id": "pnz3RUgQlxvM",
        "outputId": "c719d73d-5a01-4cbf-d649-5a5c4f73c04d"
      },
      "execution_count": 2,
      "outputs": [
        {
          "output_type": "stream",
          "name": "stdout",
          "text": [
            "1\n",
            "2\n"
          ]
        }
      ]
    },
    {
      "cell_type": "code",
      "source": [],
      "metadata": {
        "id": "KbHx-_0tl4u1"
      },
      "execution_count": null,
      "outputs": []
    }
  ]
}