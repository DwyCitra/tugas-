{
  "nbformat": 4,
  "nbformat_minor": 0,
  "metadata": {
    "colab": {
      "provenance": []
    },
    "kernelspec": {
      "name": "python3",
      "display_name": "Python 3"
    },
    "language_info": {
      "name": "python"
    }
  },
  "cells": [
    {
      "cell_type": "code",
      "source": [
        "# Sort a stack with the smallest on top using only a single temporary stack.\n",
        "\n",
        "def sort_stack(stack):\n",
        "  previous = stack.pop()\n",
        "  current = stack.pop()\n",
        "  temp = Stack()\n",
        "  while current:\n",
        "    if previous < current:\n",
        "      temp.push(previous)\n",
        "      previous = current\n",
        "      current = stack.pop()\n",
        "    else:\n",
        "      temp.push(current)\n",
        "      current = stack.pop()\n",
        "    if current == None and previous: temp.push(previous)\n",
        "\n",
        "  sorted = True\n",
        "  previous = temp.pop()\n",
        "  current = temp.pop()\n",
        "  while current:\n",
        "    if previous > current:\n",
        "      stack.push(previous)\n",
        "      previous = current\n",
        "      current = temp.pop()\n",
        "    else:\n",
        "      stack.push(current)\n",
        "      current = temp.pop()\n",
        "      sorted = False\n",
        "    if current == None and previous: stack.push(previous)\n",
        "  if sorted: return stack\n",
        "  else: return sort_stack(stack)\n",
        "\n",
        "class Stack():\n",
        "  def __init__(self):\n",
        "    self.top = None\n",
        "\n",
        "  def __str__(self):\n",
        "    return str(self.top)\n",
        "\n",
        "  def push(self, item):\n",
        "    self.top = current(item, self.top)\n",
        "\n",
        "  def pop(self):\n",
        "    if not self.top:\n",
        "      return None\n",
        "    item = self.top\n",
        "    self.top = self.top.next\n",
        "    return item.data\n",
        "\n",
        "class current():\n",
        "  def __init__(self, data=None, next=None):\n",
        "    self.data, self.next = data, next\n",
        "\n",
        "  def __str__(self):\n",
        "    return str(self and self.data) + ',' + str(self and self.next)\n",
        "\n",
        "import unittest"
      ],
      "metadata": {
        "id": "CDNZHVDRr_vK"
      },
      "execution_count": 6,
      "outputs": []
    },
    {
      "cell_type": "code",
      "source": [
        "class Test(unittest.TestCase):\n",
        "  def test_sort_stack(self):\n",
        "    self.assertEqual(str(sort_stack(Stack())), \"None\")\n",
        "    stack = Stack()\n",
        "    stack.push(10)\n",
        "    stack.push(30)\n",
        "    stack.push(70)\n",
        "    stack.push(40)\n",
        "    stack.push(80)\n",
        "    stack.push(20)\n",
        "    stack.push(90)\n",
        "    stack.push(50)\n",
        "    stack.push(60)\n",
        "    self.assertEqual(str(stack), \"60,50,90,20,80,40,70,30,10,None\")\n",
        "    self.assertEqual(str(sort_stack(stack)), \"10,20,30,40,50,60,70,80,90,None\")\n"
      ],
      "metadata": {
        "id": "V1sd3UNqsEWi"
      },
      "execution_count": 8,
      "outputs": []
    },
    {
      "cell_type": "code",
      "source": [],
      "metadata": {
        "id": "a1rdJoHnsLhG"
      },
      "execution_count": null,
      "outputs": []
    }
  ]
}