{
  "nbformat": 4,
  "nbformat_minor": 0,
  "metadata": {
    "colab": {
      "provenance": []
    },
    "kernelspec": {
      "name": "python3",
      "display_name": "Python 3"
    },
    "language_info": {
      "name": "python"
    }
  },
  "cells": [
    {
      "cell_type": "code",
      "source": [
        "# Activity Selection Problem  in Python\n",
        "\n",
        "activities = [[\"A1\", 0, 6],\n",
        "              [\"A2\", 3, 4],\n",
        "              [\"A3\", 1, 2],\n",
        "              [\"A4\", 5, 8],\n",
        "              [\"A5\", 5, 7],\n",
        "              [\"A6\", 8, 9]\n",
        "                ]\n",
        "\n",
        "\n",
        "def printMaxActivities(activities):\n",
        "    activities.sort(key=lambda x: x[2])\n",
        "    i = 0\n",
        "    firstA = activities[i][0]\n",
        "    print(firstA)\n",
        "    for j in range(len(activities)):\n",
        "        if activities[j][1] > activities[i][2]:\n",
        "            print(activities[j][0])\n",
        "            i = j"
      ],
      "metadata": {
        "id": "v8WcLKGGz2qY"
      },
      "execution_count": 5,
      "outputs": []
    },
    {
      "cell_type": "code",
      "source": [
        "printMaxActivities(activities)"
      ],
      "metadata": {
        "colab": {
          "base_uri": "https://localhost:8080/"
        },
        "id": "4WMQE3Pd0hXh",
        "outputId": "aef9e2f2-5656-4338-8e80-2a667f3b531a"
      },
      "execution_count": 6,
      "outputs": [
        {
          "output_type": "stream",
          "name": "stdout",
          "text": [
            "A3\n",
            "A2\n",
            "A5\n",
            "A6\n"
          ]
        }
      ]
    },
    {
      "cell_type": "code",
      "source": [],
      "metadata": {
        "id": "aBnYELht0lWv"
      },
      "execution_count": null,
      "outputs": []
    }
  ]
}