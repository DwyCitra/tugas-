{
  "nbformat": 4,
  "nbformat_minor": 0,
  "metadata": {
    "colab": {
      "provenance": []
    },
    "kernelspec": {
      "name": "python3",
      "display_name": "Python 3"
    },
    "language_info": {
      "name": "python"
    }
  },
  "cells": [
    {
      "cell_type": "code",
      "execution_count": 1,
      "metadata": {
        "id": "4yt4sWql793h"
      },
      "outputs": [],
      "source": [
        "class Graph:\n",
        "\n",
        "    def __init__(self, vertices):\n",
        "        self.V = vertices\n",
        "        self.graph = []\n",
        "        self.nodes = []\n",
        "\n",
        "    def add_edge(self, s, d, w):\n",
        "        self.graph.append([s, d, w])\n",
        "\n",
        "    def addNode(self,value):\n",
        "        self.nodes.append(value)\n",
        "\n",
        "    def print_solution(self, dist):\n",
        "        print(\"Vertex Distance from Source\")\n",
        "        for key, value in dist.items():\n",
        "            print('  ' + key, ' :    ', value)\n",
        "\n",
        "    def bellmanFord(self, src):\n",
        "        dist = {i : float(\"Inf\") for i in self.nodes}\n",
        "        dist[src] = 0\n",
        "\n",
        "        for _ in range(self.V-1):\n",
        "            for s, d, w in self.graph:\n",
        "                if dist[s] != float(\"Inf\") and dist[s] + w < dist[d]:\n",
        "                    dist[d] = dist[s] + w\n",
        "\n",
        "        for s, d, w in self.graph:\n",
        "            if dist[s] != float(\"Inf\") and dist[s] + w < dist[d]:\n",
        "                print(\"Graph contains negative cycle\")\n",
        "                return\n",
        "\n",
        "\n",
        "        self.print_solution(dist)\n"
      ]
    },
    {
      "cell_type": "code",
      "source": [
        "g = Graph(5)\n",
        "g.addNode(\"A\")\n",
        "g.addNode(\"B\")\n",
        "g.addNode(\"C\")\n",
        "g.addNode(\"D\")\n",
        "g.addNode(\"E\")\n",
        "g.add_edge(\"A\", \"C\", 6)\n",
        "g.add_edge(\"A\", \"D\", 6)\n",
        "g.add_edge(\"B\", \"A\", 3)\n",
        "g.add_edge(\"C\", \"D\", 1)\n",
        "g.add_edge(\"D\", \"C\", 2)\n",
        "g.add_edge(\"D\", \"B\", 1)\n",
        "g.add_edge(\"E\", \"B\", 4)\n",
        "g.add_edge(\"E\", \"D\", 2)\n",
        "g.bellmanFord(\"E\")\n",
        "\n"
      ],
      "metadata": {
        "colab": {
          "base_uri": "https://localhost:8080/"
        },
        "id": "8SRRxpSD8NZl",
        "outputId": "ea32b959-8a65-4900-d0ca-bf7ff12dc68f"
      },
      "execution_count": 2,
      "outputs": [
        {
          "output_type": "stream",
          "name": "stdout",
          "text": [
            "Vertex Distance from Source\n",
            "  A  :     6\n",
            "  B  :     3\n",
            "  C  :     4\n",
            "  D  :     2\n",
            "  E  :     0\n"
          ]
        }
      ]
    },
    {
      "cell_type": "code",
      "source": [],
      "metadata": {
        "id": "3GFr-qXb8S_i"
      },
      "execution_count": null,
      "outputs": []
    }
  ]
}