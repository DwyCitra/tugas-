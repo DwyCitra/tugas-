{
  "nbformat": 4,
  "nbformat_minor": 0,
  "metadata": {
    "colab": {
      "provenance": []
    },
    "kernelspec": {
      "name": "python3",
      "display_name": "Python 3"
    },
    "language_info": {
      "name": "python"
    }
  },
  "cells": [
    {
      "cell_type": "code",
      "execution_count": 1,
      "metadata": {
        "id": "qABCwEX78vJl"
      },
      "outputs": [],
      "source": [
        "# Searching algorithms - Binary Search\n",
        "import math\n",
        "def binarySearch(array, value):\n",
        "    start = 0\n",
        "    end = len(array)-1\n",
        "    middle = math.floor((start+end)/2)\n",
        "    while not(array[middle]==value) and start<=end:\n",
        "        if value < array[middle]:\n",
        "            end = middle - 1\n",
        "        else:\n",
        "            start = middle + 1\n",
        "        middle = math.floor((start+end)/2)\n",
        "        # print(start, middle, end)\n",
        "    if array[middle] == value:\n",
        "        return middle\n",
        "    else:\n",
        "        return -1"
      ]
    },
    {
      "cell_type": "code",
      "source": [
        "\n",
        "custArray = [8, 9, 12, 15, 17, 19, 20, 21, 28]\n",
        "print(binarySearch(custArray, 15))\n",
        "# [8, 9, 12, 15, 17, 19, 20, 21, 28]\n",
        "#  S              M               E\n",
        "#  S  M      E\n",
        "#        SM  E\n",
        "#            SME"
      ],
      "metadata": {
        "id": "KjMZO5ga82_4",
        "outputId": "add9f640-409c-4de1-8477-2c034498c7f4",
        "colab": {
          "base_uri": "https://localhost:8080/"
        }
      },
      "execution_count": 2,
      "outputs": [
        {
          "output_type": "stream",
          "name": "stdout",
          "text": [
            "3\n"
          ]
        }
      ]
    },
    {
      "cell_type": "code",
      "source": [],
      "metadata": {
        "id": "5LijUVXQ86NO"
      },
      "execution_count": null,
      "outputs": []
    }
  ]
}