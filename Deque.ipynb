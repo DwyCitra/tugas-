{
  "nbformat": 4,
  "nbformat_minor": 0,
  "metadata": {
    "colab": {
      "provenance": []
    },
    "kernelspec": {
      "name": "python3",
      "display_name": "Python 3"
    },
    "language_info": {
      "name": "python"
    }
  },
  "cells": [
    {
      "cell_type": "code",
      "execution_count": 1,
      "metadata": {
        "colab": {
          "base_uri": "https://localhost:8080/"
        },
        "id": "E0151ca4lJy1",
        "outputId": "450ccb9e-b1ee-401a-ca60-63bc8675909f"
      },
      "outputs": [
        {
          "output_type": "stream",
          "name": "stdout",
          "text": [
            "deque([], maxlen=3)\n",
            "deque([2, 3, 4], maxlen=3)\n",
            "None\n",
            "deque([], maxlen=3)\n"
          ]
        }
      ],
      "source": [
        "# How to use collections.deque as a FIFO queue:\n",
        "\n",
        "from collections import deque\n",
        "\n",
        "customQueue = deque(maxlen=3)\n",
        "print(customQueue)\n",
        "\n",
        "customQueue.append(1)\n",
        "customQueue.append(2)\n",
        "customQueue.append(3)\n",
        "customQueue.append(4)\n",
        "print(customQueue)\n",
        "print(customQueue.clear())\n",
        "print(customQueue)"
      ]
    },
    {
      "cell_type": "code",
      "source": [],
      "metadata": {
        "id": "fGOlB-grlWRF"
      },
      "execution_count": null,
      "outputs": []
    }
  ]
}