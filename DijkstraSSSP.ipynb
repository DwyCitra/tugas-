{
  "nbformat": 4,
  "nbformat_minor": 0,
  "metadata": {
    "colab": {
      "provenance": []
    },
    "kernelspec": {
      "name": "python3",
      "display_name": "Python 3"
    },
    "language_info": {
      "name": "python"
    }
  },
  "cells": [
    {
      "cell_type": "code",
      "execution_count": 2,
      "metadata": {
        "id": "aILTWEWL-7Jh"
      },
      "outputs": [],
      "source": [
        "from collections import defaultdict\n",
        "\n",
        "class Graph:\n",
        "    def __init__(self):\n",
        "        self.nodes = set()\n",
        "        self.edges = defaultdict(list)\n",
        "        self.distances = {}\n",
        "\n",
        "    def addNode(self,value):\n",
        "        self.nodes.add(value)\n",
        "\n",
        "    def addEdge(self, fromNode, toNode, distance):\n",
        "        self.edges[fromNode].append(toNode)\n",
        "        self.distances[(fromNode, toNode)] = distance\n",
        "\n",
        "\n",
        "def dijkstra(graph, initial):\n",
        "    visited = {initial : 0}\n",
        "    path = defaultdict(list)\n",
        "\n",
        "    nodes = set(graph.nodes)\n",
        "\n",
        "    while nodes:\n",
        "        minNode = None\n",
        "        for node in nodes:\n",
        "            if node in visited:\n",
        "                if minNode is None:\n",
        "                    minNode = node\n",
        "                elif visited[node] < visited[minNode]:\n",
        "                    minNode = node\n",
        "        if minNode is None:\n",
        "            break\n",
        "\n",
        "        nodes.remove(minNode)\n",
        "        currentWeight = visited[minNode]\n",
        "\n",
        "        for edge in graph.edges[minNode]:\n",
        "            weight = currentWeight + graph.distances[(minNode, edge)]\n",
        "            if edge not in visited or weight < visited[edge]:\n",
        "                visited[edge] = weight\n",
        "                path[edge].append(minNode)\n",
        "\n",
        "    return visited, path\n",
        "\n",
        "customGraph = Graph()\n",
        "customGraph.addNode(\"A\")\n",
        "customGraph.addNode(\"B\")\n",
        "customGraph.addNode(\"C\")\n",
        "customGraph.addNode(\"D\")\n",
        "customGraph.addNode(\"E\")\n",
        "customGraph.addNode(\"F\")\n",
        "customGraph.addNode(\"G\")\n",
        "customGraph.addEdge(\"A\", \"B\", 2)\n",
        "customGraph.addEdge(\"A\", \"C\", 5)\n",
        "customGraph.addEdge(\"B\", \"C\", 6)\n",
        "customGraph.addEdge(\"B\", \"D\", 1)\n",
        "customGraph.addEdge(\"B\", \"E\", 3)\n",
        "customGraph.addEdge(\"C\", \"F\", 8)\n",
        "customGraph.addEdge(\"D\", \"E\", 4)\n",
        "customGraph.addEdge(\"E\", \"G\", 9)\n",
        "customGraph.addEdge(\"F\", \"G\", 7)\n",
        "\n",
        "\n"
      ]
    },
    {
      "cell_type": "code",
      "source": [
        "# See change the distance from d to e to 1 and from b to e to 6.\n",
        "# then to get to e from a ,\n",
        "# shortest path should be a b d e\n",
        "# but your code is giving a b e"
      ],
      "metadata": {
        "id": "JFvh-zJF_JYZ"
      },
      "execution_count": 3,
      "outputs": []
    },
    {
      "cell_type": "code",
      "source": [
        "print(dijkstra(customGraph, \"A\"))"
      ],
      "metadata": {
        "colab": {
          "base_uri": "https://localhost:8080/"
        },
        "id": "AvCLGmNd_QVm",
        "outputId": "4b0340d9-7881-44d4-ae09-8aa6014c5f01"
      },
      "execution_count": 4,
      "outputs": [
        {
          "output_type": "stream",
          "name": "stdout",
          "text": [
            "({'A': 0, 'B': 2, 'C': 5, 'D': 3, 'E': 5, 'F': 13, 'G': 14}, defaultdict(<class 'list'>, {'B': ['A'], 'C': ['A'], 'D': ['B'], 'E': ['B'], 'F': ['C'], 'G': ['E']}))\n"
          ]
        }
      ]
    },
    {
      "cell_type": "code",
      "source": [],
      "metadata": {
        "id": "50885EOr_Z8V"
      },
      "execution_count": null,
      "outputs": []
    }
  ]
}