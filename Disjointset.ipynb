{
  "nbformat": 4,
  "nbformat_minor": 0,
  "metadata": {
    "colab": {
      "provenance": []
    },
    "kernelspec": {
      "name": "python3",
      "display_name": "Python 3"
    },
    "language_info": {
      "name": "python"
    }
  },
  "cells": [
    {
      "cell_type": "code",
      "execution_count": 1,
      "metadata": {
        "id": "71gY52Qr_gjI"
      },
      "outputs": [],
      "source": [
        "# Disjoint Set in Python\n",
        "\n",
        "class DisjointSet:\n",
        "    def __init__(self, vertices):\n",
        "        self.vertices = vertices\n",
        "        self.parent = {}\n",
        "        for v in vertices:\n",
        "            self.parent[v] = v\n",
        "        self.rank = dict.fromkeys(vertices, 0)\n",
        "\n",
        "    def find(self, item):\n",
        "        if self.parent[item] == item:\n",
        "            return item\n",
        "        else:\n",
        "            return self.find(self.parent[item])\n",
        "\n",
        "    def union(self, x, y):\n",
        "        xroot = self.find(x)\n",
        "        yroot = self.find(y)\n",
        "        if self.rank[xroot] < self.rank[yroot]:\n",
        "            self.parent[xroot] = yroot\n",
        "        elif self.rank[xroot] > self.rank[yroot]:\n",
        "            self.parent[yroot] = xroot\n",
        "        else:\n",
        "            self.parent[yroot] = xroot\n",
        "            self.rank[xroot] += 1\n"
      ]
    },
    {
      "cell_type": "code",
      "source": [
        "# vertices = [\"A\", \"B\", \"C\", \"D\", \"E\"]"
      ],
      "metadata": {
        "id": "5Vvk4eln_s7i"
      },
      "execution_count": 2,
      "outputs": []
    },
    {
      "cell_type": "code",
      "source": [
        "\n",
        "# ds = DisjointSet(vertices)\n",
        "# ds.union(\"A\", \"B\")\n",
        "# ds.union(\"A\", \"C\")\n"
      ],
      "metadata": {
        "id": "zPk3Ruqo_y_n"
      },
      "execution_count": 4,
      "outputs": []
    },
    {
      "cell_type": "code",
      "source": [
        "# print(ds.find(\"A\")"
      ],
      "metadata": {
        "id": "3e9DpYAS_1uM"
      },
      "execution_count": 5,
      "outputs": []
    },
    {
      "cell_type": "code",
      "source": [],
      "metadata": {
        "id": "6o1LbAqA_9uP"
      },
      "execution_count": null,
      "outputs": []
    }
  ]
}