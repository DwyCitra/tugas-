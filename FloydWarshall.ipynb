{
  "nbformat": 4,
  "nbformat_minor": 0,
  "metadata": {
    "colab": {
      "provenance": []
    },
    "kernelspec": {
      "name": "python3",
      "display_name": "Python 3"
    },
    "language_info": {
      "name": "python"
    }
  },
  "cells": [
    {
      "cell_type": "code",
      "execution_count": 1,
      "metadata": {
        "id": "QdzYyPgUAGUL"
      },
      "outputs": [],
      "source": [
        "# Floyd Warshall Algorithm in python\n",
        "\n",
        "INF = 9999\n",
        "# Printing the solution\n",
        "def printSolution(nV, distance):\n",
        "    for i in range(nV):\n",
        "        for j in range(nV):\n",
        "            if(distance[i][j] == INF):\n",
        "                print(\"INF\", end=\" \")\n",
        "            else:\n",
        "                print(distance[i][j], end=\"  \")\n",
        "        print(\" \")\n",
        "\n",
        "\n",
        "def floydWarshall(nV, G):\n",
        "    distance = G\n",
        "    for k in range(nV):\n",
        "        for i in range(nV):\n",
        "            for j in range(nV):\n",
        "                distance[i][j] = min(distance[i][j], distance[i][k]+distance[k][j])\n",
        "\n",
        "    printSolution(nV, distance)\n",
        "\n",
        "G = [[0, 8, INF,1],\n",
        "    [INF, 0, 1,INF],\n",
        "    [4, INF, 0,INF],\n",
        "    [INF, 2, 9,1]\n",
        "    ]"
      ]
    },
    {
      "cell_type": "code",
      "source": [
        "floydWarshall(4, G)\n"
      ],
      "metadata": {
        "colab": {
          "base_uri": "https://localhost:8080/"
        },
        "id": "UMWu8YGuAS_r",
        "outputId": "5a63fc86-3efa-4c82-b7a1-9ad111d995ec"
      },
      "execution_count": 2,
      "outputs": [
        {
          "output_type": "stream",
          "name": "stdout",
          "text": [
            "0  3  4  1   \n",
            "5  0  1  6   \n",
            "4  7  0  5   \n",
            "7  2  3  1   \n"
          ]
        }
      ]
    },
    {
      "cell_type": "code",
      "source": [],
      "metadata": {
        "id": "wghpLQw1AXi5"
      },
      "execution_count": null,
      "outputs": []
    }
  ]
}