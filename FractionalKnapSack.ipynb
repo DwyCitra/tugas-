{
  "nbformat": 4,
  "nbformat_minor": 0,
  "metadata": {
    "colab": {
      "provenance": []
    },
    "kernelspec": {
      "name": "python3",
      "display_name": "Python 3"
    },
    "language_info": {
      "name": "python"
    }
  },
  "cells": [
    {
      "cell_type": "code",
      "execution_count": 1,
      "metadata": {
        "id": "5GOZscAL14uC"
      },
      "outputs": [],
      "source": [
        "# Fractional Knapsack Problem  in Python\n",
        "\n",
        "class Item:\n",
        "    def __init__(self, weight, value):\n",
        "        self.weight = weight\n",
        "        self.value = value\n",
        "        self.ratio = value / weight\n",
        "\n",
        "def knapsackMethod(items, capacity):\n",
        "    items.sort(key=lambda x: x.ratio, reverse = True)\n",
        "    usedCapacity = 0\n",
        "    totalValue = 0\n",
        "    for i in items:\n",
        "        if usedCapacity + i.weight <= capacity:\n",
        "            usedCapacity += i.weight\n",
        "            totalValue += i.value\n",
        "        else:\n",
        "            unusedWeight = capacity - usedCapacity\n",
        "            value = i.ratio * unusedWeight\n",
        "            usedCapacity += unusedWeight\n",
        "            totalValue += value\n",
        "\n",
        "        if usedCapacity == capacity:\n",
        "            break\n",
        "    print(\"Total value obtained: \"+str(totalValue))\n",
        "\n",
        "item1 = Item(20,100)\n",
        "item2 = Item(30,120)\n",
        "item3 = Item(10,60)\n",
        "cList = [item1, item2, item3]"
      ]
    },
    {
      "cell_type": "code",
      "source": [
        "knapsackMethod(cList, 50)"
      ],
      "metadata": {
        "colab": {
          "base_uri": "https://localhost:8080/"
        },
        "id": "V3KI6bG52Fxz",
        "outputId": "9d3637a4-43d9-478e-e789-10622aa815b7"
      },
      "execution_count": 2,
      "outputs": [
        {
          "output_type": "stream",
          "name": "stdout",
          "text": [
            "Total value obtained: 240.0\n"
          ]
        }
      ]
    },
    {
      "cell_type": "code",
      "source": [],
      "metadata": {
        "id": "rLdr6FVN2LVU"
      },
      "execution_count": null,
      "outputs": []
    }
  ]
}