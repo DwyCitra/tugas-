{
  "nbformat": 4,
  "nbformat_minor": 0,
  "metadata": {
    "colab": {
      "provenance": []
    },
    "kernelspec": {
      "name": "python3",
      "display_name": "Python 3"
    },
    "language_info": {
      "name": "python"
    }
  },
  "cells": [
    {
      "cell_type": "code",
      "execution_count": 1,
      "metadata": {
        "id": "8hX-TQOeJ2KK"
      },
      "outputs": [],
      "source": [
        "class Graph:\n",
        "    def __init__(self, gdict=None):\n",
        "        if gdict is None:\n",
        "            gdict = {}\n",
        "        self.gdict = gdict\n",
        "\n",
        "    def addEdge(self, vertex, edge):\n",
        "        self.gdict[vertex].append(edge)\n",
        "\n",
        "    def bfs(self, vertex):\n",
        "        visited = [vertex]\n",
        "        queue = [vertex]\n",
        "        while queue:\n",
        "            deVertex = queue.pop(0)\n",
        "            print(deVertex)\n",
        "            for adjacentVertex in self.gdict[deVertex]:\n",
        "                if adjacentVertex not in visited:\n",
        "                    visited.append(adjacentVertex)\n",
        "                    queue.append(adjacentVertex)\n",
        "\n",
        "    def dfs(self, vertex):\n",
        "        visited = [vertex]\n",
        "        stack = [vertex]\n",
        "        while stack:\n",
        "            popVertex = stack.pop()\n",
        "            print(popVertex)\n",
        "            for adjacentVertex in self.gdict[popVertex]:\n",
        "                if adjacentVertex not in visited:\n",
        "                    visited.append(adjacentVertex)\n",
        "                    stack.append(adjacentVertex)"
      ]
    },
    {
      "cell_type": "code",
      "source": [
        "customDict = { \"a\" : [\"b\",\"c\"],\n",
        "            \"b\" : [\"a\", \"d\", \"e\"],\n",
        "            \"c\" : [\"a\", \"e\"],\n",
        "            \"d\" : [\"b\", \"e\", \"f\"],\n",
        "            \"e\" : [\"d\", \"f\", \"c\"],\n",
        "            \"f\" : [\"d\", \"e\"]\n",
        "               }"
      ],
      "metadata": {
        "id": "gEGlzYDYKA2O"
      },
      "execution_count": 2,
      "outputs": []
    },
    {
      "cell_type": "code",
      "source": [
        "g = Graph(customDict)\n",
        "g.dfs(\"a\")"
      ],
      "metadata": {
        "colab": {
          "base_uri": "https://localhost:8080/",
          "height": 0
        },
        "id": "ouci4i92KHks",
        "outputId": "1df85192-9d5f-478a-9f6b-6fd9a931ec61"
      },
      "execution_count": 3,
      "outputs": [
        {
          "output_type": "stream",
          "name": "stdout",
          "text": [
            "a\n",
            "c\n",
            "e\n",
            "f\n",
            "d\n",
            "b\n"
          ]
        }
      ]
    },
    {
      "cell_type": "code",
      "source": [],
      "metadata": {
        "id": "LDybmd0vKLkr"
      },
      "execution_count": null,
      "outputs": []
    }
  ]
}