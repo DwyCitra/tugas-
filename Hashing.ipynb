{
  "nbformat": 4,
  "nbformat_minor": 0,
  "metadata": {
    "colab": {
      "provenance": []
    },
    "kernelspec": {
      "name": "python3",
      "display_name": "Python 3"
    },
    "language_info": {
      "name": "python"
    }
  },
  "cells": [
    {
      "cell_type": "code",
      "execution_count": 1,
      "metadata": {
        "id": "5HZ5h1nLfBq6"
      },
      "outputs": [],
      "source": [
        "def mod(number, cellNumber):\n",
        "    return number % cellNumber\n",
        "\n",
        "\n",
        "# print(mod(400, 24))\n",
        "\n",
        "\n",
        "def modASCII(string, cellNumber):\n",
        "    total = 0\n",
        "    for i in string:\n",
        "        total += ord(i)\n",
        "    return total % cellNumber\n"
      ]
    },
    {
      "cell_type": "code",
      "source": [
        "print(modASCII(\"ABC\", 24))"
      ],
      "metadata": {
        "colab": {
          "base_uri": "https://localhost:8080/"
        },
        "id": "348rNYoTfQu-",
        "outputId": "683bdde7-ef38-4b89-d689-cf8cf3f57742"
      },
      "execution_count": 2,
      "outputs": [
        {
          "output_type": "stream",
          "name": "stdout",
          "text": [
            "6\n"
          ]
        }
      ]
    },
    {
      "cell_type": "code",
      "source": [],
      "metadata": {
        "id": "kYkYuQULfUhI"
      },
      "execution_count": null,
      "outputs": []
    }
  ]
}