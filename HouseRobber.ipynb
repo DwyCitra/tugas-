{
  "nbformat": 4,
  "nbformat_minor": 0,
  "metadata": {
    "colab": {
      "provenance": []
    },
    "kernelspec": {
      "name": "python3",
      "display_name": "Python 3"
    },
    "language_info": {
      "name": "python"
    }
  },
  "cells": [
    {
      "cell_type": "code",
      "execution_count": 1,
      "metadata": {
        "id": "RuXXtuZ24Zqs"
      },
      "outputs": [],
      "source": [
        "# House Robber Problem  in Python\n",
        "\n",
        "def houseRobber(houses, currentIndex):\n",
        "    if currentIndex >= len(houses):\n",
        "        return 0\n",
        "    else:\n",
        "        stealFirstHouse = houses[currentIndex] + houseRobber(houses, currentIndex + 2)\n",
        "        skipFirstHouse = houseRobber(houses, currentIndex+1)\n",
        "        return max(stealFirstHouse, skipFirstHouse)"
      ]
    },
    {
      "cell_type": "code",
      "source": [
        "houses = [6,7,1,30,8,2,4]"
      ],
      "metadata": {
        "id": "1QScJf1E4p4w"
      },
      "execution_count": 2,
      "outputs": []
    },
    {
      "cell_type": "code",
      "source": [
        "print(houseRobber(houses, 0))"
      ],
      "metadata": {
        "colab": {
          "base_uri": "https://localhost:8080/"
        },
        "id": "0vDbqJ1-41sk",
        "outputId": "28c27bfe-417a-452b-a73a-b928423ab237"
      },
      "execution_count": 3,
      "outputs": [
        {
          "output_type": "stream",
          "name": "stdout",
          "text": [
            "41\n"
          ]
        }
      ]
    },
    {
      "cell_type": "code",
      "source": [],
      "metadata": {
        "id": "gLGFOAia4456"
      },
      "execution_count": null,
      "outputs": []
    }
  ]
}