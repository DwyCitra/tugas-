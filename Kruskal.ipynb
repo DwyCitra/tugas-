{
  "nbformat": 4,
  "nbformat_minor": 0,
  "metadata": {
    "colab": {
      "provenance": []
    },
    "kernelspec": {
      "name": "python3",
      "display_name": "Python 3"
    },
    "language_info": {
      "name": "python"
    }
  },
  "cells": [
    {
      "cell_type": "code",
      "source": [
        "class Graph:\n",
        "    def __init__(self, vertices):\n",
        "        self.V = vertices\n",
        "        self.graph = []\n",
        "        self.nodes = []\n",
        "        self.MST = []\n",
        "\n",
        "    def addEdge(self, s, d, w):\n",
        "        self.graph.append([s, d, w])\n",
        "\n",
        "    def addNode(self, value):\n",
        "        self.nodes.append(value)\n",
        "\n",
        "    def printSolution(self,s,d,w):\n",
        "        for s, d, w in self.MST:\n",
        "            print(\"%s - %s: %s\" % (s, d, w))\n",
        "\n",
        "    def kruskalAlgo(self):\n",
        "        i, e = 0, 0\n",
        "        ds = dst.DisjointSet(self.nodes)\n",
        "        self.graph = sorted(self.graph, key=lambda item: item[2])\n",
        "        while e < self.V - 1:\n",
        "            s, d, w = self.graph[i]\n",
        "            i += 1\n",
        "            x = ds.find(s)\n",
        "            y = ds.find(d)\n",
        "            if x != y:\n",
        "                e += 1\n",
        "                self.MST.append([s,d,w])\n",
        "                ds.union(x,y)\n",
        "        self.printSolution(s,d,w)\n",
        "\n",
        "g = Graph(5)\n",
        "g.addNode(\"A\")\n",
        "g.addNode(\"B\")\n",
        "g.addNode(\"C\")\n",
        "g.addNode(\"D\")\n",
        "g.addNode(\"E\")\n",
        "g.addEdge(\"A\", \"B\", 5)\n",
        "g.addEdge(\"A\", \"C\", 13)\n",
        "g.addEdge(\"A\", \"E\", 15)\n",
        "g.addEdge(\"B\", \"A\", 5)\n",
        "g.addEdge(\"B\", \"C\", 10)\n",
        "g.addEdge(\"B\", \"D\", 8)\n",
        "g.addEdge(\"C\", \"A\", 13)\n",
        "g.addEdge(\"C\", \"B\", 10)\n",
        "g.addEdge(\"C\", \"E\", 20)\n",
        "g.addEdge(\"C\", \"D\", 6)\n",
        "g.addEdge(\"D\", \"B\", 8)\n",
        "g.addEdge(\"D\", \"C\", 6)\n",
        "g.addEdge(\"E\", \"A\", 15)\n",
        "g.addEdge(\"E\", \"C\", 20)\n",
        "\n",
        "g.kruskalAlgo()\n",
        "\n"
      ],
      "metadata": {
        "id": "KNZsKI0mB20p"
      },
      "execution_count": null,
      "outputs": []
    },
    {
      "cell_type": "code",
      "source": [],
      "metadata": {
        "id": "s_EGBW7kB8fw"
      },
      "execution_count": null,
      "outputs": []
    }
  ]
}