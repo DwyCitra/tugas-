{
  "nbformat": 4,
  "nbformat_minor": 0,
  "metadata": {
    "colab": {
      "provenance": []
    },
    "kernelspec": {
      "name": "python3",
      "display_name": "Python 3"
    },
    "language_info": {
      "name": "python"
    }
  },
  "cells": [
    {
      "cell_type": "code",
      "execution_count": 1,
      "metadata": {
        "id": "OrQPH2JeChad"
      },
      "outputs": [],
      "source": [
        "# Searching algorithms - Linear Search\n",
        "\n",
        "def linearSearch(array, value):\n",
        "    for i in range(len(array)):\n",
        "        if array[i] == value:\n",
        "            return i\n",
        "    return -1"
      ]
    },
    {
      "cell_type": "code",
      "source": [
        "print(linearSearch([20,40,30,50,90], 90))"
      ],
      "metadata": {
        "colab": {
          "base_uri": "https://localhost:8080/"
        },
        "id": "LxMlqd5nG4yg",
        "outputId": "912503ec-0388-4da5-ad7f-5ccac485aec4"
      },
      "execution_count": 2,
      "outputs": [
        {
          "output_type": "stream",
          "name": "stdout",
          "text": [
            "4\n"
          ]
        }
      ]
    },
    {
      "cell_type": "code",
      "source": [],
      "metadata": {
        "id": "Kq4D7YcYG7Lf"
      },
      "execution_count": null,
      "outputs": []
    }
  ]
}