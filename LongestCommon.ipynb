{
  "nbformat": 4,
  "nbformat_minor": 0,
  "metadata": {
    "colab": {
      "provenance": []
    },
    "kernelspec": {
      "name": "python3",
      "display_name": "Python 3"
    },
    "language_info": {
      "name": "python"
    }
  },
  "cells": [
    {
      "cell_type": "code",
      "execution_count": 1,
      "metadata": {
        "id": "X_KlY1_92w8x"
      },
      "outputs": [],
      "source": [
        "# Longest Common Subsequence in Python\n",
        "\n",
        "def findLCS(s1, s2, index1, index2):\n",
        "    if index1 == len(s1) or index2 == len(s2):\n",
        "        return 0\n",
        "    if s1[index1] == s2[index2]:\n",
        "        return 1 + findLCS(s1, s2, index1+1, index2+1)\n",
        "    else:\n",
        "        op1 = findLCS(s1,s2, index1, index2+1)\n",
        "        op2 = findLCS(s1,s2, index1+1, index2)\n",
        "        return max(op1, op2)\n"
      ]
    },
    {
      "cell_type": "code",
      "source": [
        "print(findLCS(\"elephant\", \"eretpat\", 0, 0))"
      ],
      "metadata": {
        "colab": {
          "base_uri": "https://localhost:8080/"
        },
        "id": "0wxNVFCf28no",
        "outputId": "85d2946c-60f1-477c-e19b-f4bc3ab163ea"
      },
      "execution_count": 2,
      "outputs": [
        {
          "output_type": "stream",
          "name": "stdout",
          "text": [
            "5\n"
          ]
        }
      ]
    },
    {
      "cell_type": "code",
      "source": [],
      "metadata": {
        "id": "-iyKjiW32_p1"
      },
      "execution_count": null,
      "outputs": []
    }
  ]
}