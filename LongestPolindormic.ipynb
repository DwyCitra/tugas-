{
  "nbformat": 4,
  "nbformat_minor": 0,
  "metadata": {
    "colab": {
      "provenance": []
    },
    "kernelspec": {
      "name": "python3",
      "display_name": "Python 3"
    },
    "language_info": {
      "name": "python"
    }
  },
  "cells": [
    {
      "cell_type": "code",
      "execution_count": 1,
      "metadata": {
        "id": "m3ALLIRd5D4K"
      },
      "outputs": [],
      "source": [
        "# Longest Polindromic Subsequence in Python\n",
        "\n",
        "def findLPS(s, startIndex, endIndex):\n",
        "    if startIndex > endIndex:\n",
        "        return 0\n",
        "    elif startIndex == endIndex:\n",
        "        return 1\n",
        "    elif s[startIndex] == s[endIndex]:\n",
        "        return 2 + findLPS(s, startIndex+1, endIndex-1)\n",
        "    else:\n",
        "        op1 = findLPS(s, startIndex, endIndex-1)\n",
        "        op2 = findLPS(s, startIndex+1, endIndex)\n",
        "        return max(op1, op2)"
      ]
    },
    {
      "cell_type": "code",
      "source": [
        "print(findLPS(\"ELRMENMET\", 0, 8))"
      ],
      "metadata": {
        "colab": {
          "base_uri": "https://localhost:8080/"
        },
        "id": "wSASaBub5P3K",
        "outputId": "498fd9ee-2068-4e6a-a759-29043178f1bd"
      },
      "execution_count": 2,
      "outputs": [
        {
          "output_type": "stream",
          "name": "stdout",
          "text": [
            "5\n"
          ]
        }
      ]
    },
    {
      "cell_type": "code",
      "source": [],
      "metadata": {
        "id": "xLQYUgpn5Soc"
      },
      "execution_count": null,
      "outputs": []
    }
  ]
}