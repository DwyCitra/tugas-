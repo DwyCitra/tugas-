{
  "nbformat": 4,
  "nbformat_minor": 0,
  "metadata": {
    "colab": {
      "provenance": []
    },
    "kernelspec": {
      "name": "python3",
      "display_name": "Python 3"
    },
    "language_info": {
      "name": "python"
    }
  },
  "cells": [
    {
      "cell_type": "code",
      "execution_count": 1,
      "metadata": {
        "id": "NWSXPXDn3HCp"
      },
      "outputs": [],
      "source": [
        "# Minimum Cost in 2D array\n",
        "\n",
        "def findMinCost(twoDArray, row, col):\n",
        "    if row == -1 or col == -1:\n",
        "        return float('inf')\n",
        "    elif row == 0 and col == 0:\n",
        "        return twoDArray[0][0]\n",
        "    else:\n",
        "        op1 = findMinCost(twoDArray, row-1, col)\n",
        "        op2 = findMinCost(twoDArray, row, col-1)\n",
        "        return twoDArray[row][col] + min(op1,op2)\n"
      ]
    },
    {
      "cell_type": "code",
      "source": [
        "TwoDList = [[4,7,8,6,4],\n",
        "           [6,7,3,9,2],\n",
        "           [3,8,1,2,4],\n",
        "           [7,1,7,3,7],\n",
        "           [2,9,8,9,3]\n",
        "           ]"
      ],
      "metadata": {
        "id": "SbR1tGSQ3S7x"
      },
      "execution_count": 2,
      "outputs": []
    },
    {
      "cell_type": "code",
      "source": [
        "print(findMinCost(TwoDList, 4,4))\n"
      ],
      "metadata": {
        "id": "r5pFdG2x3Yx5",
        "outputId": "884fe4de-2c2c-4db7-86a6-25115952edb6",
        "colab": {
          "base_uri": "https://localhost:8080/"
        }
      },
      "execution_count": 3,
      "outputs": [
        {
          "output_type": "stream",
          "name": "stdout",
          "text": [
            "36\n"
          ]
        }
      ]
    },
    {
      "cell_type": "code",
      "source": [],
      "metadata": {
        "id": "_FNbU2iG3bpN"
      },
      "execution_count": null,
      "outputs": []
    }
  ]
}