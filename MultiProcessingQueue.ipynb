{
  "nbformat": 4,
  "nbformat_minor": 0,
  "metadata": {
    "colab": {
      "provenance": []
    },
    "kernelspec": {
      "name": "python3",
      "display_name": "Python 3"
    },
    "language_info": {
      "name": "python"
    }
  },
  "cells": [
    {
      "cell_type": "code",
      "execution_count": 1,
      "metadata": {
        "colab": {
          "base_uri": "https://localhost:8080/"
        },
        "id": "iE72PxRmo8ec",
        "outputId": "877d7afa-3d31-48f8-e70b-155699fe34e5"
      },
      "outputs": [
        {
          "output_type": "stream",
          "name": "stdout",
          "text": [
            "1\n"
          ]
        }
      ],
      "source": [
        "# How to use multiprocessing.Queue as a FIFO queue:\n",
        "\n",
        "from multiprocessing import Queue\n",
        "\n",
        "customQueue = Queue(maxsize= 3)\n",
        "customQueue.put(1)\n",
        "print(customQueue.get())"
      ]
    },
    {
      "cell_type": "code",
      "source": [],
      "metadata": {
        "id": "xH78zrRMpLTP"
      },
      "execution_count": null,
      "outputs": []
    }
  ]
}