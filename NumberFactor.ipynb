{
  "nbformat": 4,
  "nbformat_minor": 0,
  "metadata": {
    "colab": {
      "provenance": []
    },
    "kernelspec": {
      "name": "python3",
      "display_name": "Python 3"
    },
    "language_info": {
      "name": "python"
    }
  },
  "cells": [
    {
      "cell_type": "code",
      "execution_count": 1,
      "metadata": {
        "id": "dIY4PCMC5cCu"
      },
      "outputs": [],
      "source": [
        "# Number Factor Problem  in Python\n",
        "\n",
        "def numberFactor(n):\n",
        "    if n in (0,1,2):\n",
        "        return 1\n",
        "    elif n == 3:\n",
        "        return 2\n",
        "    else:\n",
        "        subP1 = numberFactor(n-1)\n",
        "        subP2 = numberFactor(n-3)\n",
        "        subP3 = numberFactor(n-4)\n",
        "        return subP1+subP2+subP3"
      ]
    },
    {
      "cell_type": "code",
      "source": [
        "print(numberFactor(5))"
      ],
      "metadata": {
        "colab": {
          "base_uri": "https://localhost:8080/"
        },
        "id": "XicWLhaY5qcu",
        "outputId": "19c1ea05-ab7b-4acb-9c46-a1f38b7f2825"
      },
      "execution_count": 2,
      "outputs": [
        {
          "output_type": "stream",
          "name": "stdout",
          "text": [
            "6\n"
          ]
        }
      ]
    },
    {
      "cell_type": "code",
      "source": [],
      "metadata": {
        "id": "2jysTdzc5tBg"
      },
      "execution_count": null,
      "outputs": []
    }
  ]
}