{
  "nbformat": 4,
  "nbformat_minor": 0,
  "metadata": {
    "colab": {
      "provenance": []
    },
    "kernelspec": {
      "name": "python3",
      "display_name": "Python 3"
    },
    "language_info": {
      "name": "python"
    }
  },
  "cells": [
    {
      "cell_type": "code",
      "execution_count": 1,
      "metadata": {
        "id": "MdqUS8hG3-hj"
      },
      "outputs": [],
      "source": [
        "# Number of paths to reach the last cell with given cost in 2D array\n",
        "\n",
        "def numberOfPaths(twoDArray, row, col, cost):\n",
        "    if cost < 0:\n",
        "        return 0\n",
        "    elif row == 0 and col == 0:\n",
        "        if twoDArray[0][0] - cost == 0:\n",
        "            return 1\n",
        "        else:\n",
        "            return 0\n",
        "    elif row == 0:\n",
        "        return numberOfPaths(twoDArray, 0, col-1, cost - twoDArray[row][col] )\n",
        "    elif col == 0:\n",
        "        return numberOfPaths(twoDArray, row-1, 0, cost - twoDArray[row][col] )\n",
        "    else:\n",
        "        op1 = numberOfPaths(twoDArray, row -1, col, cost - twoDArray[row][col] )\n",
        "        op2 = numberOfPaths(twoDArray, row, col-1, cost - twoDArray[row][col] )\n",
        "        return op1 + op2"
      ]
    },
    {
      "cell_type": "code",
      "source": [
        "TwoDList = [[4,7,1,6],\n",
        "           [5,7,3,9],\n",
        "           [3,2,1,2],\n",
        "           [7,1,6,3]\n",
        "           ]\n"
      ],
      "metadata": {
        "id": "W_vQ_8n94Ihx"
      },
      "execution_count": 2,
      "outputs": []
    },
    {
      "cell_type": "code",
      "source": [
        "print(numberOfPaths(TwoDList, 3,3, 25))"
      ],
      "metadata": {
        "id": "-YIF5Xwq4P7o",
        "outputId": "de024fd4-76de-4015-f7c0-09165db79bdd",
        "colab": {
          "base_uri": "https://localhost:8080/"
        }
      },
      "execution_count": 3,
      "outputs": [
        {
          "output_type": "stream",
          "name": "stdout",
          "text": [
            "2\n"
          ]
        }
      ]
    },
    {
      "cell_type": "code",
      "source": [],
      "metadata": {
        "id": "Xf6CoNBt4TN1"
      },
      "execution_count": null,
      "outputs": []
    }
  ]
}