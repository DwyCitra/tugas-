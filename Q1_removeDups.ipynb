{
 "cells": [
  {
   "cell_type": "code",
   "execution_count": null,
   "metadata": {},
   "outputs": [],
   "source": [
    "# created by Elshad Karimov on 17/05/2020.\n",
    "# copyright 2020 AppMillers. ALL rights reserved.\n",
    "\n",
    "# question 1 - Remove Dups : Write a code to \n",
    "remove duplicates from unsorted linked\n",
    "list.\n",
    "\n",
    "from LinkedList import LinkedList\n",
    "def removDups(ll):\n",
    "    if ll.head is None:\n",
    "        return\n",
    "    else:\n",
    "        currentNode = ll.head\n",
    "        visited = set([currentNode.value])\n",
    "        while currentNode.next:\n",
    "            if currentNode.next.value in visited:\n",
    "                currentNode.next = currentNode.next.next\n",
    "            else:\n",
    "                visited.add(currentNode.next.value)\n",
    "            return ll\n",
    "def removeDups1(ll):\n",
    "    if ll.head is None:\n",
    "        return\n",
    "    currentNode = ll.head\n",
    "    while currentNode:\n",
    "        if runner.next.value == currentNode.value:\n",
    "        else:\n",
    "            runner = runner.next\n",
    "        currentNode = currentNode.next\n",
    "    return ll.head\n",
    "\n",
    "\n",
    "\n"
   ]
  }
 ],
 "metadata": {
  "language_info": {
   "name": "python"
  },
  "orig_nbformat": 4
 },
 "nbformat": 4,
 "nbformat_minor": 2
}
