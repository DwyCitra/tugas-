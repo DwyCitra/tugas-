{
 "cells": [
  {
   "cell_type": "code",
   "execution_count": null,
   "metadata": {},
   "outputs": [],
   "source": [
    "# Created by Elshad Karimov on 18/05/2020.\n",
    "# copyright 2020 AppMillers. ALL rights\n",
    "reserved.\n",
    "\n",
    "from Linkedist import LinkedList\n",
    "\n",
    "def nthToLast(ll, n):\n",
    "    pointer1 = ll.head\n",
    "    pointer2 = ll.head\n",
    "\n",
    "    for i in range(n):\n",
    "        if pointer2 is None:\n",
    "            return None\n",
    "        pointer2 pointer2.next\n",
    "    \n",
    "    while pointer2:\n",
    "        pointer1 = pointer1.next\n",
    "        pointer2 = ppointer2.next\n",
    "    return pointer1\n",
    "\n",
    "customLL = LinkedList()\n",
    "customLL.generate(10, 0, 99)\n",
    "print(customLL)\n",
    "print(nthToLast(customLL, 3))"
   ]
  },
  {
   "cell_type": "code",
   "execution_count": null,
   "metadata": {},
   "outputs": [],
   "source": []
  }
 ],
 "metadata": {
  "language_info": {
   "name": "python"
  },
  "orig_nbformat": 4
 },
 "nbformat": 4,
 "nbformat_minor": 2
}
