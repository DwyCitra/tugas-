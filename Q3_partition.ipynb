{
 "cells": [
  {
   "cell_type": "code",
   "execution_count": null,
   "metadata": {},
   "outputs": [],
   "source": [
    "#  created by Elshad Karimov on 18/05/2020.\n",
    "#  copyright 2020 AppMilres. ALL rights\n",
    "reserved.\n",
    "\n",
    "# Question 3 - Write code to partition a\n",
    "linked list around a value x,\n",
    "#           such that all nodes less\n",
    "than x come before all nodes grater than or\n",
    "equal to x.\n",
    "\n",
    "from LinkedList  import LinkedList\n",
    "\n",
    "def partition(ll, x):\n",
    "    curNode = ll.head\n",
    "    ll.tail = ll.head\n",
    "\n",
    "    while curNode:\n",
    "        nextNode = curNode.next\n",
    "        curNode.next = None\n",
    "        if curNode.value < x:\n",
    "            curNode.next = ll.head\n",
    "            ll.head = curNode\n",
    "        else:\n",
    "            ll.tail.next = curNode\n",
    "            ll.tail = curNode\n",
    "        curNode = nextNode\n",
    "\n",
    "    if ll.tail.next is not None:\n",
    "        ll.tail.next = None\n",
    "\n",
    "customLL = LinkedList()\n",
    "customLL.generate(10,0,99)\n",
    "print(customLL)\n",
    "partition(customLL, 30)\n",
    "print(customLL)"
   ]
  },
  {
   "cell_type": "code",
   "execution_count": null,
   "metadata": {},
   "outputs": [],
   "source": []
  }
 ],
 "metadata": {
  "language_info": {
   "name": "python"
  },
  "orig_nbformat": 4
 },
 "nbformat": 4,
 "nbformat_minor": 2
}
