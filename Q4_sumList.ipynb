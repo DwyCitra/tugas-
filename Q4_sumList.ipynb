{
 "cells": [
  {
   "cell_type": "code",
   "execution_count": null,
   "metadata": {},
   "outputs": [],
   "source": [
    "#   Created by Elshad Karimov on 18/05/2020.\n",
    "#   copyright 2020 AppMillers. ALL rights\n",
    "reserved.\n",
    "\n",
    "from LinkedList import LinkedList\n",
    "\n",
    "def sumList(llA, llB):\n",
    "    n1 = llA.head\n",
    "    n2 = llB.head\n",
    "    carry = 0\n",
    "    ll = LinkedList()\n",
    "\n",
    "    while n1 or n2:\n",
    "        result = carry\n",
    "        if n1:\n",
    "            result += n1.value\n",
    "            n1 = n1.next\n",
    "        if n2:\n",
    "            result += n2.value\n",
    "            n2 = n2.next\n",
    "        ll.add(int(rsult % 10))\n",
    "        carry = result / 10\n",
    "\n",
    "    return ll\n",
    "\n",
    "llA = LinkedList()\n",
    "llA.add(7)\n",
    "llA.add(1)\n",
    "llA.add(6)\n",
    "\n",
    "llB = LinkedList()\n",
    "LLB.add(5)\n",
    "LLB.add(9)\n",
    "LLB.add(2)\n",
    "print(llA)\n",
    "print(llB)\n",
    "print(sumList(llA, llB))\n",
    "\n",
    "\n",
    "\n",
    "\n"
   ]
  }
 ],
 "metadata": {
  "language_info": {
   "name": "python"
  },
  "orig_nbformat": 4
 },
 "nbformat": 4,
 "nbformat_minor": 2
}
