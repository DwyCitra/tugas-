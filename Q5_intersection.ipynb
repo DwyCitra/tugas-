{
 "cells": [
  {
   "cell_type": "code",
   "execution_count": null,
   "metadata": {},
   "outputs": [],
   "source": [
    "#   Created by Elshad Karimov on 19/05/2020.\n",
    "#   copyright 2020 AppMillers. ALL rights\n",
    "reserved.  \n",
    "\n",
    "# Question 5 - Intresection\n",
    "\n",
    "from LinkedList import LinkedList, nodes\n",
    "\n",
    "def intersection(llA, llB):\n",
    "    if llA.tail is not llB.tail:\n",
    "        return False\n",
    "\n",
    "    lenA = len(llA)\n",
    "    lenB = len(llB)\n",
    "\n",
    "    shorter = len if lenA < lenB else llB\n",
    "    longerNode = llB if lenA < lenB else llA\n",
    "\n",
    "    diff = len(longer) - len(shorter)\n",
    "    longerNode = longer.head\n",
    "    shorterNode = shorter.head\n",
    "\n",
    "    for i in range(diff):\n",
    "        longerNode = longerNode.next\n",
    "\n",
    "    while shorterNode is not longerNode:\n",
    "        shorterNode = shorterNode.next\n",
    "        longerNode = longerNode.next\n",
    "    \n",
    "    return longerNode\n",
    "\n",
    "# Helper addition method\n",
    "def addSameNode(llA, llB, value):\n",
    "    tempNode = Node(value)\n",
    "    llA.tail.next = tempNode\n",
    "    llA.tail = tempNode\n",
    "    llB.tail.next = tempNode\n",
    "    llB.tail = tempNode\n",
    "\n",
    "llA = LinkedList()\n",
    "llA.generate(3,0, 10)\n",
    "\n",
    "llB = LinkedList()\n",
    "llB.generate(4,0, 10)\n",
    "\n",
    "addSameNode(llA, llB, 11)\n",
    "addSameNode(llA, llB, 14)\n",
    "\n",
    "print(llA)\n",
    "print(llB)\n",
    "\n",
    "print(intersection(llA, llB))\n"
   ]
  },
  {
   "cell_type": "code",
   "execution_count": null,
   "metadata": {},
   "outputs": [],
   "source": []
  }
 ],
 "metadata": {
  "language_info": {
   "name": "python"
  },
  "orig_nbformat": 4
 },
 "nbformat": 4,
 "nbformat_minor": 2
}
