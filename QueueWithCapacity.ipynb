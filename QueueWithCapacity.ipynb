{
  "nbformat": 4,
  "nbformat_minor": 0,
  "metadata": {
    "colab": {
      "provenance": []
    },
    "kernelspec": {
      "name": "python3",
      "display_name": "Python 3"
    },
    "language_info": {
      "name": "python"
    }
  },
  "cells": [
    {
      "cell_type": "code",
      "execution_count": 1,
      "metadata": {
        "id": "D4ldmLUvpqrv"
      },
      "outputs": [],
      "source": [
        "class Queue:\n",
        "    def __init__(self, maxSize):\n",
        "        self.items = maxSize * [None]\n",
        "        self.maxSize = maxSize\n",
        "        self.start = -1\n",
        "        self.top = -1\n",
        "\n",
        "    def __str__(self):\n",
        "        values = [str(x) for x in self.items]\n",
        "        return ' '.join(values)\n",
        "\n",
        "    def isFull(self):\n",
        "        if self.top + 1 == self.start:\n",
        "            return True\n",
        "        elif self.start == 0 and self.top + 1 == self.maxSize:\n",
        "            return True\n",
        "        else:\n",
        "            return False\n",
        "\n",
        "    def isEmpty(self):\n",
        "        if self.top == -1:\n",
        "            return True\n",
        "        else:\n",
        "            return False\n",
        "\n",
        "    def enqueue(self, value):\n",
        "        if self.isFull():\n",
        "            return \"The queue is full\"\n",
        "        else:\n",
        "            if self.top + 1 == self.maxSize:\n",
        "                self.top = 0\n",
        "            else:\n",
        "                self.top += 1\n",
        "                if self.start == -1:\n",
        "                    self.start = 0\n",
        "            self.items[self.top] = value\n",
        "            return \"The element is inserted at the end of Queue\"\n",
        "\n",
        "    def dequeue(self):\n",
        "        if self.isEmpty():\n",
        "            return \"There is not any element in the Queue\"\n",
        "        else:\n",
        "            firstElement = self.items[self.start]\n",
        "            start = self.start\n",
        "            if self.start == self.top:\n",
        "                self.start = -1\n",
        "                self.top = -1\n",
        "            elif self.start + 1 == self.maxSize:\n",
        "                self.start = 0\n",
        "            else:\n",
        "                self.start += 1\n",
        "            self.items[start] = None\n",
        "            return firstElement\n",
        "\n",
        "    def peek(self):\n",
        "        if self.isEmpty():\n",
        "            return \"There is not any element in the Queue\"\n",
        "        else:\n",
        "            return self.items[self.start]\n",
        "\n",
        "    def delete(self):\n",
        "        self.items = self.maxSize * [None]\n",
        "        self.top = -1\n",
        "        self.start = -1\n",
        "\n"
      ]
    },
    {
      "cell_type": "code",
      "source": [
        "customQueue = Queue(3)\n",
        "customQueue.enqueue(1)\n",
        "customQueue.enqueue(2)\n",
        "customQueue.enqueue(3)\n",
        "customQueue.delete()\n",
        "print(customQueue)"
      ],
      "metadata": {
        "colab": {
          "base_uri": "https://localhost:8080/"
        },
        "id": "ZzYj45z7p0Mv",
        "outputId": "6d198591-50dc-4300-8f3e-a8fbd35df03b"
      },
      "execution_count": 2,
      "outputs": [
        {
          "output_type": "stream",
          "name": "stdout",
          "text": [
            "None None None\n"
          ]
        }
      ]
    },
    {
      "cell_type": "code",
      "source": [],
      "metadata": {
        "id": "tzsCdZIAp5F9"
      },
      "execution_count": null,
      "outputs": []
    }
  ]
}