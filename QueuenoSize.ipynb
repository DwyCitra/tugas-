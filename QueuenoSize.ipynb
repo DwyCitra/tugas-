{
  "nbformat": 4,
  "nbformat_minor": 0,
  "metadata": {
    "colab": {
      "provenance": []
    },
    "kernelspec": {
      "name": "python3",
      "display_name": "Python 3"
    },
    "language_info": {
      "name": "python"
    }
  },
  "cells": [
    {
      "cell_type": "code",
      "source": [
        "class Queue:\n",
        "    def __init__(self):\n",
        "        self.items = []\n",
        "\n",
        "    def __str__(self):\n",
        "        values = [str(x) for x in self.items]\n",
        "        return ' '.join(values)\n",
        "\n",
        "    def isEmpty(self):\n",
        "        if self.items == []:\n",
        "            return True\n",
        "        else:\n",
        "            return False\n",
        "\n",
        "    def enqueue(self, value):\n",
        "        self.items.append(value)\n",
        "        return \"The element is inserted at the end of Queue\"\n",
        "\n",
        "    def dequeue(self):\n",
        "        if self.isEmpty():\n",
        "            return \"The is not any element in the Queue\"\n",
        "        else:\n",
        "            return self.items.pop(0)\n",
        "\n",
        "    def peek(self):\n",
        "        if self.isEmpty():\n",
        "            return \"The is not any element in the Queue\"\n",
        "        else:\n",
        "            return self.items[0]\n",
        "\n",
        "    def delete(self):\n",
        "        self.items = None\n"
      ],
      "metadata": {
        "id": "HkCzXJ1VmvY-"
      },
      "execution_count": 3,
      "outputs": []
    },
    {
      "cell_type": "code",
      "source": [
        "customQueue = Queue()\n",
        "customQueue.enqueue(1)\n",
        "customQueue.enqueue(2)\n",
        "customQueue.enqueue(3)\n",
        "print(customQueue.peek())\n",
        "customQueue.delete()"
      ],
      "metadata": {
        "id": "IXfsvXV7m3t1",
        "outputId": "c3c97b2b-9a05-4abd-ad55-fe98553b1a2b",
        "colab": {
          "base_uri": "https://localhost:8080/"
        }
      },
      "execution_count": 4,
      "outputs": [
        {
          "output_type": "stream",
          "name": "stdout",
          "text": [
            "1\n"
          ]
        }
      ]
    },
    {
      "cell_type": "code",
      "source": [],
      "metadata": {
        "id": "sl-MQRGKm7Ss"
      },
      "execution_count": null,
      "outputs": []
    }
  ]
}