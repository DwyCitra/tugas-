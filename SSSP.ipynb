{
  "nbformat": 4,
  "nbformat_minor": 0,
  "metadata": {
    "colab": {
      "provenance": []
    },
    "kernelspec": {
      "name": "python3",
      "display_name": "Python 3"
    },
    "language_info": {
      "name": "python"
    }
  },
  "cells": [
    {
      "cell_type": "code",
      "execution_count": 1,
      "metadata": {
        "id": "ZbMpP1t1HU6V"
      },
      "outputs": [],
      "source": [
        "class Graph:\n",
        "    def __init__(self, gdict=None):\n",
        "        if gdict is None:\n",
        "            gdict = {}\n",
        "        self.gdict = gdict\n",
        "\n",
        "    def bfs(self, start, end):\n",
        "        queue = []\n",
        "        queue.append([start])\n",
        "        while queue:\n",
        "            path = queue.pop(0)\n",
        "            node = path[-1]\n",
        "            if node == end:\n",
        "                return path\n",
        "            for adjacent in self.gdict.get(node, []):\n",
        "                new_path = list(path)\n",
        "                new_path.append(adjacent)\n",
        "                queue.append(new_path)\n",
        "\n",
        "customDict = { \"a\" : [\"b\", \"c\"],\n",
        "               \"b\" : [\"d\", \"g\"],\n",
        "               \"c\" : [\"d\", \"e\"],\n",
        "               \"d\" : [\"f\"],\n",
        "               \"e\" : [\"f\"],\n",
        "               \"g\" : [\"f\"]\n",
        "            }"
      ]
    },
    {
      "cell_type": "code",
      "source": [
        "g = Graph(customDict)\n",
        "print(g.bfs(\"a\", \"z\"))"
      ],
      "metadata": {
        "colab": {
          "base_uri": "https://localhost:8080/"
        },
        "id": "JO5yx89tHaxv",
        "outputId": "69d5c67d-6c6c-4001-d621-351f1642befd"
      },
      "execution_count": 2,
      "outputs": [
        {
          "output_type": "stream",
          "name": "stdout",
          "text": [
            "None\n"
          ]
        }
      ]
    },
    {
      "cell_type": "code",
      "source": [],
      "metadata": {
        "id": "Qu4S3vJ5HdKB"
      },
      "execution_count": null,
      "outputs": []
    }
  ]
}