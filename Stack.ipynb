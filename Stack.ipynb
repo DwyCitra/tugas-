{
  "nbformat": 4,
  "nbformat_minor": 0,
  "metadata": {
    "colab": {
      "provenance": []
    },
    "kernelspec": {
      "name": "python3",
      "display_name": "Python 3"
    },
    "language_info": {
      "name": "python"
    }
  },
  "cells": [
    {
      "cell_type": "code",
      "execution_count": 1,
      "metadata": {
        "id": "6XyCzX22nDqt"
      },
      "outputs": [],
      "source": [
        "class MultiStack:\n",
        "\n",
        "    def __init__(self, stacksize):\n",
        "        self.numstacks = 3\n",
        "        self.array = [0] * (stacksize * self.numstacks)\n",
        "        self.sizes = [0] * self.numstacks\n",
        "        self.stacksize = stacksize\n",
        "        # print(self.array)\n",
        "        # print(self.sizes)\n",
        "\n",
        "    def Push(self, item, stacknum):\n",
        "        if self.IsFull(stacknum):\n",
        "            raise Exception('Stack is full')\n",
        "        self.sizes[stacknum] += 1\n",
        "        self.array[self.IndexOfTop(stacknum)] = item\n",
        "\n",
        "    def Pop(self, stacknum):\n",
        "        if self.IsEmpty(stacknum):\n",
        "            raise Exception('Stack is empty')\n",
        "        value = self.array[self.IndexOfTop(stacknum)]\n",
        "        self.array[self.IndexOfTop(stacknum)] = 0\n",
        "        self.sizes[stacknum] -= 1\n",
        "        return value\n",
        "\n",
        "    def Peek(self, stacknum):\n",
        "        if self.IsEmpty(stacknum):\n",
        "            raise Exception('Stack is empty')\n",
        "        return self.array[self.IndexOfTop(stacknum)]\n",
        "\n",
        "    def IsEmpty(self, stacknum):\n",
        "        return self.sizes[stacknum] == 0\n",
        "\n",
        "    def IsFull(self, stacknum):\n",
        "        return self.sizes[stacknum] == self.stacksize\n",
        "\n",
        "    def IndexOfTop(self, stacknum):\n",
        "        offset = stacknum * self.stacksize\n",
        "        return offset + self.sizes[stacknum] - 1\n"
      ]
    },
    {
      "cell_type": "code",
      "source": [
        "stack = MultiStack(1)\n"
      ],
      "metadata": {
        "id": "L5jojQ6anOIV"
      },
      "execution_count": 2,
      "outputs": []
    },
    {
      "cell_type": "code",
      "source": [],
      "metadata": {
        "id": "eBmhVZr7nVVs"
      },
      "execution_count": null,
      "outputs": []
    }
  ]
}