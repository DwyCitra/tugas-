{
  "nbformat": 4,
  "nbformat_minor": 0,
  "metadata": {
    "colab": {
      "provenance": []
    },
    "kernelspec": {
      "name": "python3",
      "display_name": "Python 3"
    },
    "language_info": {
      "name": "python"
    }
  },
  "cells": [
    {
      "cell_type": "code",
      "execution_count": 1,
      "metadata": {
        "id": "hjZDxeQgneKa"
      },
      "outputs": [],
      "source": [
        "class Stack:\n",
        "    def __init__(self):\n",
        "        self.list = []\n",
        "\n",
        "    def __str__(self):\n",
        "        values = self.list.reverse()\n",
        "        values = [str(x) for x in self.list]\n",
        "        return '\\n'.join(values)\n",
        "\n",
        "    # isEmpty\n",
        "    def isEmpty(self):\n",
        "        if self.list == []:\n",
        "            return True\n",
        "        else:\n",
        "            return False\n",
        "    # push\n",
        "    def push(self, value):\n",
        "        self.list.append(value)\n",
        "        return \"The element has been successfully inserted\"\n",
        "\n",
        "    # pop\n",
        "    def pop(self):\n",
        "        if self.isEmpty():\n",
        "            return \"There is not any element in the stack\"\n",
        "        else:\n",
        "            return self.list.pop()\n",
        "\n",
        "    # peek\n",
        "    def peek(self):\n",
        "        if self.isEmpty():\n",
        "            return \"There is not any element in the stack\"\n",
        "        else:\n",
        "            return self.list[len(self.list)-1]\n",
        "\n",
        "    # delete\n",
        "    def delete(self):\n",
        "        self.list = None"
      ]
    },
    {
      "cell_type": "code",
      "source": [
        "customStack = Stack()\n",
        "customStack.push(1)\n",
        "customStack.push(2)\n",
        "customStack.push(3)\n",
        "print(customStack.peek())\n",
        "print(customStack)"
      ],
      "metadata": {
        "colab": {
          "base_uri": "https://localhost:8080/"
        },
        "id": "Ftkb_jDnnk4a",
        "outputId": "18220b38-0b51-4670-943b-bdff9c9d5713"
      },
      "execution_count": 2,
      "outputs": [
        {
          "output_type": "stream",
          "name": "stdout",
          "text": [
            "3\n",
            "3\n",
            "2\n",
            "1\n"
          ]
        }
      ]
    },
    {
      "cell_type": "code",
      "source": [],
      "metadata": {
        "id": "bJeY-7_inp_B"
      },
      "execution_count": null,
      "outputs": []
    }
  ]
}