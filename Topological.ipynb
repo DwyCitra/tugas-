{
  "nbformat": 4,
  "nbformat_minor": 0,
  "metadata": {
    "colab": {
      "provenance": []
    },
    "kernelspec": {
      "name": "python3",
      "display_name": "Python 3"
    },
    "language_info": {
      "name": "python"
    }
  },
  "cells": [
    {
      "cell_type": "code",
      "execution_count": 1,
      "metadata": {
        "id": "4QFiGtkiJdzW"
      },
      "outputs": [],
      "source": [
        "from collections import defaultdict\n",
        "\n",
        "class Graph:\n",
        "    def __init__(self, numberofVertices):\n",
        "        self.graph = defaultdict(list)\n",
        "        self.numberofVertices = numberofVertices\n",
        "\n",
        "    def addEdge(self, vertex, edge):\n",
        "        self.graph[vertex].append(edge)\n",
        "\n",
        "    def topogologicalSortUtil(self, v, visited, stack):\n",
        "        visited.append(v)\n",
        "\n",
        "        for i in self.graph[v]:\n",
        "            if i not in visited:\n",
        "                self.topogologicalSortUtil(i, visited, stack)\n",
        "\n",
        "        stack.insert(0, v)\n",
        "\n",
        "    def topologicalSort(self):\n",
        "\n",
        "        visited = []\n",
        "        stack = []\n",
        "\n",
        "        for k in list(self.graph):\n",
        "            if k not in visited:\n",
        "                self.topogologicalSortUtil(k, visited, stack)\n",
        "\n",
        "        print(stack)\n",
        ""
      ]
    },
    {
      "cell_type": "code",
      "source": [
        "customGraph = Graph(8)\n",
        "customGraph.addEdge(\"A\", \"C\")\n",
        "customGraph.addEdge(\"C\", \"E\")\n",
        "customGraph.addEdge(\"E\", \"H\")\n",
        "customGraph.addEdge(\"E\", \"F\")\n",
        "customGraph.addEdge(\"F\", \"G\")\n",
        "customGraph.addEdge(\"B\", \"D\")\n",
        "customGraph.addEdge(\"B\", \"C\")\n",
        "customGraph.addEdge(\"D\", \"F\")\n"
      ],
      "metadata": {
        "id": "c_cVf7GeJncx"
      },
      "execution_count": 2,
      "outputs": []
    },
    {
      "cell_type": "code",
      "source": [
        "customGraph.topologicalSort()"
      ],
      "metadata": {
        "id": "uZ--3MK8Jtgk",
        "outputId": "935084eb-1aae-4ce9-f217-595116074eba",
        "colab": {
          "base_uri": "https://localhost:8080/"
        }
      },
      "execution_count": 3,
      "outputs": [
        {
          "output_type": "stream",
          "name": "stdout",
          "text": [
            "['B', 'D', 'A', 'C', 'E', 'F', 'G', 'H']\n"
          ]
        }
      ]
    },
    {
      "cell_type": "code",
      "source": [],
      "metadata": {
        "id": "xHhHrstDJvzu"
      },
      "execution_count": null,
      "outputs": []
    }
  ]
}