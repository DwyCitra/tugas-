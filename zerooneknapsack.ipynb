{
  "nbformat": 4,
  "nbformat_minor": 0,
  "metadata": {
    "colab": {
      "provenance": []
    },
    "kernelspec": {
      "name": "python3",
      "display_name": "Python 3"
    },
    "language_info": {
      "name": "python"
    }
  },
  "cells": [
    {
      "cell_type": "code",
      "execution_count": 1,
      "metadata": {
        "id": "xC12Bhgq568i"
      },
      "outputs": [],
      "source": [
        "# Zero One Knapsack in Python\n",
        "\n",
        "class Item:\n",
        "    def __init__(self, profit, weight):\n",
        "        self.profit = profit\n",
        "        self.weight = weight\n",
        "\n",
        "def zoKnapsack(items, capacity, currentIndex):\n",
        "    if capacity <=0 or currentIndex < 0 or currentIndex >= len(items):\n",
        "        return 0\n",
        "    elif items[currentIndex].weight <= capacity:\n",
        "        profit1 = items[currentIndex].profit + zoKnapsack(items, capacity-items[currentIndex].weight, currentIndex+1)\n",
        "        profit2 = zoKnapsack(items, capacity, currentIndex+1)\n",
        "        return max(profit1, profit2)\n",
        "    else:\n",
        "        return 0"
      ]
    },
    {
      "cell_type": "code",
      "source": [
        "mango = Item(31, 3)\n",
        "apple = Item(26, 1)\n",
        "orange = Item(17, 2)\n",
        "banana = Item(72, 5)\n"
      ],
      "metadata": {
        "id": "ow92Ed126JSu"
      },
      "execution_count": 2,
      "outputs": []
    },
    {
      "cell_type": "code",
      "source": [
        "items = [mango, apple, orange, banana]"
      ],
      "metadata": {
        "id": "1wZwyUWZ6MVW"
      },
      "execution_count": 3,
      "outputs": []
    },
    {
      "cell_type": "code",
      "source": [
        "print(zoKnapsack(items, 7, 0))"
      ],
      "metadata": {
        "colab": {
          "base_uri": "https://localhost:8080/"
        },
        "id": "6bEdOgd86Ozk",
        "outputId": "098d08ab-7043-4707-f714-c995b50aadc7"
      },
      "execution_count": 4,
      "outputs": [
        {
          "output_type": "stream",
          "name": "stdout",
          "text": [
            "98\n"
          ]
        }
      ]
    },
    {
      "cell_type": "code",
      "source": [],
      "metadata": {
        "id": "Zdfh0CR-6Sbh"
      },
      "execution_count": null,
      "outputs": []
    }
  ]
}